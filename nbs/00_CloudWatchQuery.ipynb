{
 "cells": [
  {
   "cell_type": "markdown",
   "metadata": {},
   "source": [
    "# CloudWatchQuery\n",
    "\n",
    "> Building and executing queries to CloudWatch Logs"
   ]
  },
  {
   "cell_type": "markdown",
   "metadata": {},
   "source": [
    "## Query CloudWatchLogs \n",
    "\n",
    "CloudWatch Logs support a [simple query language](https://docs.aws.amazon.com/AmazonCloudWatch/latest/logs/CWL_QuerySyntax.html), which we can use to search for different pattern in the logs.\n",
    "\n",
    "We will start with some examples and then create the classes and functions to perform these queries."
   ]
  },
  {
   "cell_type": "code",
   "execution_count": null,
   "metadata": {},
   "outputs": [],
   "source": [
    "simple_query = f'''\n",
    "fields @timestamp, @message\n",
    "| sort @timestamp desc\n",
    "| limit 20 \n",
    "'''"
   ]
  },
  {
   "cell_type": "code",
   "execution_count": null,
   "metadata": {},
   "outputs": [],
   "source": [
    "complex_query = f'''\n",
    "filter @message like /GOING TO RUN SKILL/ \n",
    "| parse @message '\"*\" for SESSION *:* with PARAMETERS' as @skill, @channel, @id \n",
    "| stats count(@channel) by @skill\n",
    "'''"
   ]
  },
  {
   "cell_type": "code",
   "execution_count": null,
   "metadata": {},
   "outputs": [],
   "source": [
    "from datetime import datetime, timedelta\n",
    "import time\n"
   ]
  },
  {
   "cell_type": "code",
   "execution_count": null,
   "metadata": {},
   "outputs": [
    {
     "name": "stdout",
     "output_type": "stream",
     "text": [
      "\u001b[33mWARNING: Error parsing requirements for nbconvert: [Errno 2] No such file or directory: '/Users/guy/opt/anaconda3/lib/python3.8/site-packages/nbconvert-6.0.7.dist-info/METADATA'\u001b[0m\n",
      "Note: you may need to restart the kernel to use updated packages.\n"
     ]
    }
   ],
   "source": [
    "%pip install --upgrade boto3 awswrangler --quiet"
   ]
  },
  {
   "cell_type": "code",
   "execution_count": null,
   "metadata": {},
   "outputs": [],
   "source": [
    "import awswrangler as wr\n",
    "import pandas as pd\n",
    "from datetime import datetime"
   ]
  },
  {
   "cell_type": "code",
   "execution_count": null,
   "metadata": {},
   "outputs": [],
   "source": [
    "LOG_GROUP_NAME = '/aws/apigateway/welcome'"
   ]
  },
  {
   "cell_type": "code",
   "execution_count": null,
   "metadata": {},
   "outputs": [],
   "source": [
    "import boto3\n",
    "boto3.setup_default_session(region_name=\"us-east-2\")"
   ]
  },
  {
   "cell_type": "code",
   "execution_count": null,
   "metadata": {},
   "outputs": [],
   "source": [
    "df = wr.cloudwatch.read_logs(\n",
    "    log_group_names=[LOG_GROUP_NAME],\n",
    "    query=\"fields @timestamp, @message | sort @timestamp desc | limit 5\",\n",
    "    boto3_session = boto3.Session(region_name=\"us-west-2\")\n",
    ")"
   ]
  },
  {
   "cell_type": "code",
   "execution_count": null,
   "metadata": {},
   "outputs": [
    {
     "data": {
      "text/html": [
       "<div>\n",
       "<style scoped>\n",
       "    .dataframe tbody tr th:only-of-type {\n",
       "        vertical-align: middle;\n",
       "    }\n",
       "\n",
       "    .dataframe tbody tr th {\n",
       "        vertical-align: top;\n",
       "    }\n",
       "\n",
       "    .dataframe thead th {\n",
       "        text-align: right;\n",
       "    }\n",
       "</style>\n",
       "<table border=\"1\" class=\"dataframe\">\n",
       "  <thead>\n",
       "    <tr style=\"text-align: right;\">\n",
       "      <th></th>\n",
       "      <th>timestamp</th>\n",
       "      <th>message</th>\n",
       "      <th>ptr</th>\n",
       "    </tr>\n",
       "  </thead>\n",
       "  <tbody>\n",
       "    <tr>\n",
       "      <th>0</th>\n",
       "      <td>2021-12-20 11:03:13.568</td>\n",
       "      <td>Cloudwatch logs enabled for API Gateway</td>\n",
       "      <td>CmAKKAokMzI3MTYzODM3MDU1Oi9hd3MvYXBpZ2F0ZXdheS...</td>\n",
       "    </tr>\n",
       "    <tr>\n",
       "      <th>1</th>\n",
       "      <td>2021-11-24 15:10:19.572</td>\n",
       "      <td>Cloudwatch logs enabled for API Gateway</td>\n",
       "      <td>CmAKKAokMzI3MTYzODM3MDU1Oi9hd3MvYXBpZ2F0ZXdheS...</td>\n",
       "    </tr>\n",
       "    <tr>\n",
       "      <th>2</th>\n",
       "      <td>2021-11-01 15:57:57.790</td>\n",
       "      <td>Cloudwatch logs enabled for API Gateway</td>\n",
       "      <td>CmAKKAokMzI3MTYzODM3MDU1Oi9hd3MvYXBpZ2F0ZXdheS...</td>\n",
       "    </tr>\n",
       "    <tr>\n",
       "      <th>3</th>\n",
       "      <td>2021-11-01 15:37:36.574</td>\n",
       "      <td>Cloudwatch logs enabled for API Gateway</td>\n",
       "      <td>CmAKKAokMzI3MTYzODM3MDU1Oi9hd3MvYXBpZ2F0ZXdheS...</td>\n",
       "    </tr>\n",
       "    <tr>\n",
       "      <th>4</th>\n",
       "      <td>2021-10-30 23:10:28.807</td>\n",
       "      <td>Cloudwatch logs enabled for API Gateway</td>\n",
       "      <td>CmAKKAokMzI3MTYzODM3MDU1Oi9hd3MvYXBpZ2F0ZXdheS...</td>\n",
       "    </tr>\n",
       "  </tbody>\n",
       "</table>\n",
       "</div>"
      ],
      "text/plain": [
       "                timestamp                                  message  \\\n",
       "0 2021-12-20 11:03:13.568  Cloudwatch logs enabled for API Gateway   \n",
       "1 2021-11-24 15:10:19.572  Cloudwatch logs enabled for API Gateway   \n",
       "2 2021-11-01 15:57:57.790  Cloudwatch logs enabled for API Gateway   \n",
       "3 2021-11-01 15:37:36.574  Cloudwatch logs enabled for API Gateway   \n",
       "4 2021-10-30 23:10:28.807  Cloudwatch logs enabled for API Gateway   \n",
       "\n",
       "                                                 ptr  \n",
       "0  CmAKKAokMzI3MTYzODM3MDU1Oi9hd3MvYXBpZ2F0ZXdheS...  \n",
       "1  CmAKKAokMzI3MTYzODM3MDU1Oi9hd3MvYXBpZ2F0ZXdheS...  \n",
       "2  CmAKKAokMzI3MTYzODM3MDU1Oi9hd3MvYXBpZ2F0ZXdheS...  \n",
       "3  CmAKKAokMzI3MTYzODM3MDU1Oi9hd3MvYXBpZ2F0ZXdheS...  \n",
       "4  CmAKKAokMzI3MTYzODM3MDU1Oi9hd3MvYXBpZ2F0ZXdheS...  "
      ]
     },
     "execution_count": null,
     "metadata": {},
     "output_type": "execute_result"
    }
   ],
   "source": [
    "df"
   ]
  },
  {
   "cell_type": "code",
   "execution_count": null,
   "metadata": {},
   "outputs": [],
   "source": [
    "#| default_exp CloudWatchQuery"
   ]
  },
  {
   "cell_type": "code",
   "execution_count": null,
   "metadata": {},
   "outputs": [],
   "source": [
    "#| hide\n",
    "from nbdev.showdoc import *"
   ]
  },
  {
   "cell_type": "code",
   "execution_count": null,
   "metadata": {},
   "outputs": [],
   "source": [
    "#| export\n",
    "\n",
    "import awswrangler as wr\n",
    "import pandas as pd\n",
    "import boto3\n",
    "\n",
    "class CloudWatchQuery:\n",
    "    \"Configure a  CloudWatch query\"\n",
    "    def __init__(self, query, log_group): \n",
    "        self.query = query \n",
    "        self.log_group = log_group\n",
    "        \n",
    "    def get_df(self):\n",
    "        \"Execute the query\"\n",
    "        df = wr.cloudwatch.read_logs(\n",
    "            log_group_names=[self.log_group],\n",
    "            query=self.query,\n",
    "            boto3_session = boto3.Session(region_name=\"us-west-2\")\n",
    "        )\n",
    "        return df"
   ]
  },
  {
   "cell_type": "code",
   "execution_count": null,
   "metadata": {},
   "outputs": [],
   "source": [
    "cwq = CloudWatchQuery(simple_query, LOG_GROUP_NAME)"
   ]
  },
  {
   "cell_type": "code",
   "execution_count": null,
   "metadata": {},
   "outputs": [
    {
     "data": {
      "text/html": [
       "<div>\n",
       "<style scoped>\n",
       "    .dataframe tbody tr th:only-of-type {\n",
       "        vertical-align: middle;\n",
       "    }\n",
       "\n",
       "    .dataframe tbody tr th {\n",
       "        vertical-align: top;\n",
       "    }\n",
       "\n",
       "    .dataframe thead th {\n",
       "        text-align: right;\n",
       "    }\n",
       "</style>\n",
       "<table border=\"1\" class=\"dataframe\">\n",
       "  <thead>\n",
       "    <tr style=\"text-align: right;\">\n",
       "      <th></th>\n",
       "      <th>timestamp</th>\n",
       "      <th>message</th>\n",
       "      <th>ptr</th>\n",
       "    </tr>\n",
       "  </thead>\n",
       "  <tbody>\n",
       "    <tr>\n",
       "      <th>0</th>\n",
       "      <td>2021-12-20 11:03:13.568</td>\n",
       "      <td>Cloudwatch logs enabled for API Gateway</td>\n",
       "      <td>CmAKKAokMzI3MTYzODM3MDU1Oi9hd3MvYXBpZ2F0ZXdheS...</td>\n",
       "    </tr>\n",
       "    <tr>\n",
       "      <th>1</th>\n",
       "      <td>2021-11-24 15:10:19.572</td>\n",
       "      <td>Cloudwatch logs enabled for API Gateway</td>\n",
       "      <td>CmAKKAokMzI3MTYzODM3MDU1Oi9hd3MvYXBpZ2F0ZXdheS...</td>\n",
       "    </tr>\n",
       "    <tr>\n",
       "      <th>2</th>\n",
       "      <td>2021-11-01 15:57:57.790</td>\n",
       "      <td>Cloudwatch logs enabled for API Gateway</td>\n",
       "      <td>CmAKKAokMzI3MTYzODM3MDU1Oi9hd3MvYXBpZ2F0ZXdheS...</td>\n",
       "    </tr>\n",
       "    <tr>\n",
       "      <th>3</th>\n",
       "      <td>2021-11-01 15:37:36.574</td>\n",
       "      <td>Cloudwatch logs enabled for API Gateway</td>\n",
       "      <td>CmAKKAokMzI3MTYzODM3MDU1Oi9hd3MvYXBpZ2F0ZXdheS...</td>\n",
       "    </tr>\n",
       "    <tr>\n",
       "      <th>4</th>\n",
       "      <td>2021-10-30 23:10:28.807</td>\n",
       "      <td>Cloudwatch logs enabled for API Gateway</td>\n",
       "      <td>CmAKKAokMzI3MTYzODM3MDU1Oi9hd3MvYXBpZ2F0ZXdheS...</td>\n",
       "    </tr>\n",
       "    <tr>\n",
       "      <th>5</th>\n",
       "      <td>2021-10-25 17:55:32.019</td>\n",
       "      <td>Cloudwatch logs enabled for API Gateway</td>\n",
       "      <td>CmAKKAokMzI3MTYzODM3MDU1Oi9hd3MvYXBpZ2F0ZXdheS...</td>\n",
       "    </tr>\n",
       "    <tr>\n",
       "      <th>6</th>\n",
       "      <td>2021-10-25 15:46:26.526</td>\n",
       "      <td>Cloudwatch logs enabled for API Gateway</td>\n",
       "      <td>CmAKKAokMzI3MTYzODM3MDU1Oi9hd3MvYXBpZ2F0ZXdheS...</td>\n",
       "    </tr>\n",
       "    <tr>\n",
       "      <th>7</th>\n",
       "      <td>2021-09-15 23:43:55.393</td>\n",
       "      <td>Cloudwatch logs enabled for API Gateway</td>\n",
       "      <td>CmAKKAokMzI3MTYzODM3MDU1Oi9hd3MvYXBpZ2F0ZXdheS...</td>\n",
       "    </tr>\n",
       "    <tr>\n",
       "      <th>8</th>\n",
       "      <td>2021-08-25 07:53:40.904</td>\n",
       "      <td>Cloudwatch logs enabled for API Gateway</td>\n",
       "      <td>CmAKKAokMzI3MTYzODM3MDU1Oi9hd3MvYXBpZ2F0ZXdheS...</td>\n",
       "    </tr>\n",
       "    <tr>\n",
       "      <th>9</th>\n",
       "      <td>2021-07-22 15:23:43.083</td>\n",
       "      <td>Cloudwatch logs enabled for API Gateway</td>\n",
       "      <td>CmAKKAokMzI3MTYzODM3MDU1Oi9hd3MvYXBpZ2F0ZXdheS...</td>\n",
       "    </tr>\n",
       "    <tr>\n",
       "      <th>10</th>\n",
       "      <td>2021-07-15 12:16:32.384</td>\n",
       "      <td>Cloudwatch logs enabled for API Gateway</td>\n",
       "      <td>CmAKKAokMzI3MTYzODM3MDU1Oi9hd3MvYXBpZ2F0ZXdheS...</td>\n",
       "    </tr>\n",
       "    <tr>\n",
       "      <th>11</th>\n",
       "      <td>2021-06-24 18:52:16.520</td>\n",
       "      <td>Cloudwatch logs enabled for API Gateway</td>\n",
       "      <td>CmAKKAokMzI3MTYzODM3MDU1Oi9hd3MvYXBpZ2F0ZXdheS...</td>\n",
       "    </tr>\n",
       "    <tr>\n",
       "      <th>12</th>\n",
       "      <td>2021-06-24 18:08:36.870</td>\n",
       "      <td>Cloudwatch logs enabled for API Gateway</td>\n",
       "      <td>CmAKKAokMzI3MTYzODM3MDU1Oi9hd3MvYXBpZ2F0ZXdheS...</td>\n",
       "    </tr>\n",
       "  </tbody>\n",
       "</table>\n",
       "</div>"
      ],
      "text/plain": [
       "                 timestamp                                  message  \\\n",
       "0  2021-12-20 11:03:13.568  Cloudwatch logs enabled for API Gateway   \n",
       "1  2021-11-24 15:10:19.572  Cloudwatch logs enabled for API Gateway   \n",
       "2  2021-11-01 15:57:57.790  Cloudwatch logs enabled for API Gateway   \n",
       "3  2021-11-01 15:37:36.574  Cloudwatch logs enabled for API Gateway   \n",
       "4  2021-10-30 23:10:28.807  Cloudwatch logs enabled for API Gateway   \n",
       "5  2021-10-25 17:55:32.019  Cloudwatch logs enabled for API Gateway   \n",
       "6  2021-10-25 15:46:26.526  Cloudwatch logs enabled for API Gateway   \n",
       "7  2021-09-15 23:43:55.393  Cloudwatch logs enabled for API Gateway   \n",
       "8  2021-08-25 07:53:40.904  Cloudwatch logs enabled for API Gateway   \n",
       "9  2021-07-22 15:23:43.083  Cloudwatch logs enabled for API Gateway   \n",
       "10 2021-07-15 12:16:32.384  Cloudwatch logs enabled for API Gateway   \n",
       "11 2021-06-24 18:52:16.520  Cloudwatch logs enabled for API Gateway   \n",
       "12 2021-06-24 18:08:36.870  Cloudwatch logs enabled for API Gateway   \n",
       "\n",
       "                                                  ptr  \n",
       "0   CmAKKAokMzI3MTYzODM3MDU1Oi9hd3MvYXBpZ2F0ZXdheS...  \n",
       "1   CmAKKAokMzI3MTYzODM3MDU1Oi9hd3MvYXBpZ2F0ZXdheS...  \n",
       "2   CmAKKAokMzI3MTYzODM3MDU1Oi9hd3MvYXBpZ2F0ZXdheS...  \n",
       "3   CmAKKAokMzI3MTYzODM3MDU1Oi9hd3MvYXBpZ2F0ZXdheS...  \n",
       "4   CmAKKAokMzI3MTYzODM3MDU1Oi9hd3MvYXBpZ2F0ZXdheS...  \n",
       "5   CmAKKAokMzI3MTYzODM3MDU1Oi9hd3MvYXBpZ2F0ZXdheS...  \n",
       "6   CmAKKAokMzI3MTYzODM3MDU1Oi9hd3MvYXBpZ2F0ZXdheS...  \n",
       "7   CmAKKAokMzI3MTYzODM3MDU1Oi9hd3MvYXBpZ2F0ZXdheS...  \n",
       "8   CmAKKAokMzI3MTYzODM3MDU1Oi9hd3MvYXBpZ2F0ZXdheS...  \n",
       "9   CmAKKAokMzI3MTYzODM3MDU1Oi9hd3MvYXBpZ2F0ZXdheS...  \n",
       "10  CmAKKAokMzI3MTYzODM3MDU1Oi9hd3MvYXBpZ2F0ZXdheS...  \n",
       "11  CmAKKAokMzI3MTYzODM3MDU1Oi9hd3MvYXBpZ2F0ZXdheS...  \n",
       "12  CmAKKAokMzI3MTYzODM3MDU1Oi9hd3MvYXBpZ2F0ZXdheS...  "
      ]
     },
     "execution_count": null,
     "metadata": {},
     "output_type": "execute_result"
    }
   ],
   "source": [
    "cwq.get_df()"
   ]
  },
  {
   "cell_type": "code",
   "execution_count": null,
   "metadata": {},
   "outputs": [],
   "source": [
    "#| hide\n",
    "import nbdev; nbdev.nbdev_export()"
   ]
  },
  {
   "cell_type": "code",
   "execution_count": null,
   "metadata": {},
   "outputs": [],
   "source": []
  }
 ],
 "metadata": {
  "kernelspec": {
   "display_name": "Python 3",
   "language": "python",
   "name": "python3"
  }
 },
 "nbformat": 4,
 "nbformat_minor": 4
}
